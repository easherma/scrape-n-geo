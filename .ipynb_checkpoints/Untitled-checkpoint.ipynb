{
 "cells": [
  {
   "cell_type": "code",
   "execution_count": 1,
   "metadata": {},
   "outputs": [],
   "source": [
    "import pandas as pd\n"
   ]
  },
  {
   "cell_type": "code",
   "execution_count": 11,
   "metadata": {},
   "outputs": [],
   "source": [
    "import os\n",
    "dirname = os.getcwd()\n",
    "lookup = os.path.join(dirname, './lookup.csv')"
   ]
  },
  {
   "cell_type": "code",
   "execution_count": 113,
   "metadata": {},
   "outputs": [],
   "source": [
    "# units_lookup = pd.read_csv('./lookup.csv')\n",
    "units_lookup = pd.DataFrame.from_dict(dic)\n"
   ]
  },
  {
   "cell_type": "code",
   "execution_count": 114,
   "metadata": {},
   "outputs": [],
   "source": [
    "building_code = units_lookup[units_lookup['BLDGClass'] == 200]\n",
    "u_min = int(building_code['min_units'])\n",
    "u_max = int(building_code['max_units'])"
   ]
  },
  {
   "cell_type": "code",
   "execution_count": 116,
   "metadata": {},
   "outputs": [],
   "source": [
    "dic = pd.read_csv('./lookup.csv').to_dict()"
   ]
  },
  {
   "cell_type": "code",
   "execution_count": 123,
   "metadata": {},
   "outputs": [
    {
     "name": "stdout",
     "output_type": "stream",
     "text": [
      "C:\\repos\\scrape-n-geo\\scrape_n_geo\\scrape_n_geo\n"
     ]
    }
   ],
   "source": [
    "cd scrape_n_geo/\n",
    "\n"
   ]
  },
  {
   "cell_type": "code",
   "execution_count": 23,
   "metadata": {},
   "outputs": [
    {
     "data": {
      "text/plain": [
       "0     200\n",
       "1     202\n",
       "2     203\n",
       "3     204\n",
       "4     205\n",
       "5     206\n",
       "6     207\n",
       "7     208\n",
       "8     209\n",
       "9     210\n",
       "10    211\n",
       "11    212\n",
       "12    234\n",
       "13    278\n",
       "14    299\n",
       "15    313\n",
       "16    314\n",
       "17    315\n",
       "18    318\n",
       "19    391\n",
       "20    396\n",
       "21    399\n",
       "22    913\n",
       "23    914\n",
       "24    915\n",
       "25    918\n",
       "26    959\n",
       "27    991\n",
       "28    996\n",
       "29    997\n",
       "Name: BLDGClass, dtype: int64"
      ]
     },
     "execution_count": 23,
     "metadata": {},
     "output_type": "execute_result"
    }
   ],
   "source": [
    "lookup['BLDGClass']"
   ]
  },
  {
   "cell_type": "code",
   "execution_count": null,
   "metadata": {},
   "outputs": [],
   "source": []
  }
 ],
 "metadata": {
  "kernelspec": {
   "display_name": "Python 3",
   "language": "python",
   "name": "python3"
  },
  "language_info": {
   "codemirror_mode": {
    "name": "ipython",
    "version": 3
   },
   "file_extension": ".py",
   "mimetype": "text/x-python",
   "name": "python",
   "nbconvert_exporter": "python",
   "pygments_lexer": "ipython3",
   "version": "3.6.5"
  }
 },
 "nbformat": 4,
 "nbformat_minor": 2
}
